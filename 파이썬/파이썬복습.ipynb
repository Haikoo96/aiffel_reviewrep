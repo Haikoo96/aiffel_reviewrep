{
 "cells": [
  {
   "cell_type": "markdown",
   "metadata": {},
   "source": [
    "## 리스트 활용법 in python"
   ]
  },
  {
   "cell_type": "code",
   "execution_count": 1,
   "metadata": {},
   "outputs": [
    {
     "name": "stdout",
     "output_type": "stream",
     "text": [
      "0\n",
      "1\n",
      "2\n",
      "3\n"
     ]
    }
   ],
   "source": [
    "napoli_player = ['minjae', '크바라츠헬리아', 'Osimhen', 'Anguissa']\n",
    "for i, player in enumerate(napoli_player):\n",
    "    print(i)"
   ]
  },
  {
   "cell_type": "markdown",
   "metadata": {},
   "source": [
    "- enumerate 함수는 인덱스와 요소를 튜플로 묶어낸다"
   ]
  },
  {
   "cell_type": "code",
   "execution_count": 2,
   "metadata": {},
   "outputs": [
    {
     "name": "stdout",
     "output_type": "stream",
     "text": [
      "0 minjae\n",
      "1 크바라츠헬리아\n",
      "2 Osimhen\n",
      "3 Anguissa\n"
     ]
    }
   ],
   "source": [
    "napoli_player = ['minjae', '크바라츠헬리아', 'Osimhen', 'Anguissa']\n",
    "for i, player in enumerate(napoli_player):\n",
    "    print(i, player)"
   ]
  },
  {
   "cell_type": "markdown",
   "metadata": {},
   "source": [
    "- 여기서 i 와 player는 튜플의 요소를 불러온 것"
   ]
  },
  {
   "cell_type": "code",
   "execution_count": 7,
   "metadata": {},
   "outputs": [
    {
     "name": "stdout",
     "output_type": "stream",
     "text": [
      "[(0, 'minjae'), (1, '크바라츠헬리아'), (2, 'Osimhen'), (3, 'Anguissa')]\n"
     ]
    }
   ],
   "source": [
    "napoli_player = ['minjae', '크바라츠헬리아', 'Osimhen', 'Anguissa']\n",
    "ls = [i for i in enumerate(napoli_player)]\n",
    "print(ls)"
   ]
  },
  {
   "cell_type": "markdown",
   "metadata": {},
   "source": [
    "- 리스트 컴프리헨션으로 enumerate 함수에서 생성된 튜플을 리스트에다 넣었다"
   ]
  },
  {
   "cell_type": "markdown",
   "metadata": {},
   "source": [
    "## zip 함수"
   ]
  },
  {
   "cell_type": "code",
   "execution_count": 3,
   "metadata": {},
   "outputs": [
    {
     "data": {
      "text/plain": [
       "<zip at 0x205f7d7d940>"
      ]
     },
     "execution_count": 3,
     "metadata": {},
     "output_type": "execute_result"
    }
   ],
   "source": [
    "napoli_num = [3, 77, 9, 99]\n",
    "napoli_player = ['minjae', '크바라츠헬리아', 'Osimhen', 'Anguissa'] \n",
    "zip(napoli_num, napoli_player)"
   ]
  },
  {
   "cell_type": "code",
   "execution_count": 2,
   "metadata": {},
   "outputs": [
    {
     "name": "stdout",
     "output_type": "stream",
     "text": [
      "<zip object at 0x00000205F71B1900>\n",
      "(3, 'minjae')\n",
      "(77, '크바라츠헬리아')\n",
      "(9, 'Osimhen')\n",
      "(99, 'Anguissa')\n"
     ]
    }
   ],
   "source": [
    "napoli_num = [3, 77, 9, 99]\n",
    "napoli_player = ['minjae', '크바라츠헬리아', 'Osimhen', 'Anguissa'] \n",
    "print(zip(napoli_num, napoli_player))\n",
    "for i in zip(napoli_num, napoli_player):\n",
    "    print(i)"
   ]
  },
  {
   "cell_type": "markdown",
   "metadata": {},
   "source": [
    "- 여기서 이터러블은 napoli_num 과 napoli_player 의 각 요소들을 (첫번째 순서부터) 튜플로 구성된 리스트이다\n",
    "- 이터레이터는 리스트 안에 구성된 튜플이다"
   ]
  },
  {
   "cell_type": "code",
   "execution_count": 4,
   "metadata": {},
   "outputs": [
    {
     "name": "stdout",
     "output_type": "stream",
     "text": [
      "[(3, 'minjae'), (77, '크바라츠헬리아'), (9, 'Osimhen'), (99, 'Anguissa')]\n",
      "(3, 77, 9, 99) ('minjae', '크바라츠헬리아', 'Osimhen', 'Anguissa')\n"
     ]
    }
   ],
   "source": [
    "zip_ls = list(zip(napoli_num, napoli_player))\n",
    "print(zip_ls) #먼저 zip된 데이터를 출력해서 리스트로 나오는지 확인\n",
    "\n",
    "napoli_num, napoli_player = zip(*zip_ls)\n",
    "print(napoli_num, napoli_player) # *를 활용하여 원래 napoli_num 형태같이 돌아가나 tuple 형태로 반환"
   ]
  },
  {
   "cell_type": "code",
   "execution_count": 5,
   "metadata": {},
   "outputs": [
    {
     "name": "stdout",
     "output_type": "stream",
     "text": [
      "{3: 'minjae', 77: '크바라츠헬리아', 9: 'Osimhen', 99: 'Anguissa'}\n",
      "3 minjae\n",
      "77 크바라츠헬리아\n",
      "9 Osimhen\n",
      "99 Anguissa\n"
     ]
    }
   ],
   "source": [
    "# for 문과 multi variable loop을 활용\n",
    "# 딕셔너리 형태로 만들어보기\n",
    "\n",
    "napoli_profile = {k:v for k, v in zip(napoli_num, napoli_player)}\n",
    "print(napoli_profile)\n",
    "\n",
    "for k, v in napoli_profile.items():\n",
    "    print(k, v)"
   ]
  },
  {
   "cell_type": "markdown",
   "metadata": {},
   "source": [
    "- 변수 하나의 loop 와 두개의 loop의 차이는 변수 두개일때 두개가 한 쌍으로 이터레이터가 되면서 loop를 돈다\n",
    "    - (k, v) 의 이터레이터 안에 요소 k와 v가 이터레이터가 되는셈\n",
    "    - 한 쌍으로 움직이는 것\n",
    "- 아래 tuple 이 들어간 리스트 for 문 loop\n",
    "\n",
    "```\n",
    "lst = [(2,3), \"c\"]\n",
    "for a in lst:\n",
    "    print(a)\n",
    "    #output: (2,3) c\n",
    "```"
   ]
  },
  {
   "cell_type": "markdown",
   "metadata": {},
   "source": [
    "## Lambda Expression"
   ]
  },
  {
   "cell_type": "code",
   "execution_count": 12,
   "metadata": {},
   "outputs": [
    {
     "data": {
      "text/plain": [
       "5"
      ]
     },
     "execution_count": 12,
     "metadata": {},
     "output_type": "execute_result"
    }
   ],
   "source": [
    "add = lambda x : x + 2\n",
    "add(3)"
   ]
  },
  {
   "cell_type": "markdown",
   "metadata": {},
   "source": [
    "- 람다함수의 특징은 함수이름이 따로 없고 return 값은 콜론 뒤에 온다\n",
    "- 클로저 함수처럼 add() 에다 변수를 집어 넣으면 된다"
   ]
  },
  {
   "cell_type": "code",
   "execution_count": 14,
   "metadata": {},
   "outputs": [
    {
     "ename": "SyntaxError",
     "evalue": "invalid syntax (850599577.py, line 1)",
     "output_type": "error",
     "traceback": [
      "\u001b[1;36m  Cell \u001b[1;32mIn[14], line 1\u001b[1;36m\u001b[0m\n\u001b[1;33m    (lambda x: y = 10; x + y)(1)\u001b[0m\n\u001b[1;37m                 ^\u001b[0m\n\u001b[1;31mSyntaxError\u001b[0m\u001b[1;31m:\u001b[0m invalid syntax\n"
     ]
    }
   ],
   "source": [
    "(lambda x: y = 10; x + y)(1)\n",
    "# 람다식 안에서는 새로운 변수를 만들 수 없음"
   ]
  },
  {
   "cell_type": "code",
   "execution_count": 13,
   "metadata": {},
   "outputs": [
    {
     "data": {
      "text/plain": [
       "11"
      ]
     },
     "execution_count": 13,
     "metadata": {},
     "output_type": "execute_result"
    }
   ],
   "source": [
    "(lambda x, y: x + y)(1, 10)\n",
    "# 이 코드처럼 변환해야 됨"
   ]
  },
  {
   "cell_type": "markdown",
   "metadata": {},
   "source": [
    "- 인수가 두개일 경우 람다식 뒤에 tuple 형태로 두 개의 인자를 넣어준다"
   ]
  },
  {
   "cell_type": "code",
   "execution_count": 15,
   "metadata": {},
   "outputs": [
    {
     "ename": "NameError",
     "evalue": "name 'x' is not defined",
     "output_type": "error",
     "traceback": [
      "\u001b[1;31m---------------------------------------------------------------------------\u001b[0m",
      "\u001b[1;31mNameError\u001b[0m                                 Traceback (most recent call last)",
      "\u001b[1;32mc:\\Users\\박해극\\Aiffel\\아이펠복습\\파이썬복습.ipynb Cell 21\u001b[0m line \u001b[0;36m4\n\u001b[0;32m      <a href='vscode-notebook-cell:/c%3A/Users/%EB%B0%95%ED%95%B4%EA%B7%B9/Aiffel/%EC%95%84%EC%9D%B4%ED%8E%A0%EB%B3%B5%EC%8A%B5/%ED%8C%8C%EC%9D%B4%EC%8D%AC%EB%B3%B5%EC%8A%B5.ipynb#X34sZmlsZQ%3D%3D?line=0'>1</a>\u001b[0m y \u001b[39m=\u001b[39m \u001b[39m'\u001b[39m\u001b[39m 나폴리 \u001b[39m\u001b[39m'\u001b[39m\n\u001b[0;32m      <a href='vscode-notebook-cell:/c%3A/Users/%EB%B0%95%ED%95%B4%EA%B7%B9/Aiffel/%EC%95%84%EC%9D%B4%ED%8E%A0%EB%B3%B5%EC%8A%B5/%ED%8C%8C%EC%9D%B4%EC%8D%AC%EB%B3%B5%EC%8A%B5.ipynb#X34sZmlsZQ%3D%3D?line=1'>2</a>\u001b[0m (\u001b[39mlambda\u001b[39;00m x : x \u001b[39m+\u001b[39m y)(\u001b[39m'\u001b[39m\u001b[39m이탈리아\u001b[39m\u001b[39m'\u001b[39m) \u001b[39m# y 는 global variable 이고 \u001b[39;00m\n\u001b[1;32m----> <a href='vscode-notebook-cell:/c%3A/Users/%EB%B0%95%ED%95%B4%EA%B7%B9/Aiffel/%EC%95%84%EC%9D%B4%ED%8E%A0%EB%B3%B5%EC%8A%B5/%ED%8C%8C%EC%9D%B4%EC%8D%AC%EB%B3%B5%EC%8A%B5.ipynb#X34sZmlsZQ%3D%3D?line=3'>4</a>\u001b[0m \u001b[39mprint\u001b[39m(x)\n",
      "\u001b[1;31mNameError\u001b[0m: name 'x' is not defined"
     ]
    }
   ],
   "source": [
    "y = ' 나폴리 '\n",
    "(lambda x : x + y)('이탈리아') # y 는 global variable 이고 '이탈리아'는 local variable 이다 "
   ]
  },
  {
   "cell_type": "markdown",
   "metadata": {},
   "source": [
    "1. y 는 전역변수이므로 람다식에서 필요한 건 x 이다.\n",
    "2. 그러므로 y는 이미 정해진 상태이므로 x 만 지정해주면 되는데 이걸 '이탈리아'로 지역변수를 칭함\n",
    "    - ('이탈리아') 형태가 x 에 지정된다"
   ]
  },
  {
   "cell_type": "markdown",
   "metadata": {},
   "source": [
    "### map() filter() reduce()"
   ]
  },
  {
   "cell_type": "code",
   "execution_count": 19,
   "metadata": {},
   "outputs": [
    {
     "name": "stdout",
     "output_type": "stream",
     "text": [
      "[0, 2, 4, 6, 8, 10, 12, 14, 16, 18]\n"
     ]
    },
    {
     "data": {
      "text/plain": [
       "(0, 2, 4, 6, 8, 10, 12, 14, 16, 18)"
      ]
     },
     "execution_count": 19,
     "metadata": {},
     "output_type": "execute_result"
    }
   ],
   "source": [
    "# map(function, parameter) this is the form used when applying the map function\n",
    "# parameters are often list or tuple\n",
    "def second(x):\n",
    "    results = x * 2\n",
    "    return results\n",
    "\n",
    "# 리스트 \n",
    "two = [i for i in range(10)]\n",
    "\n",
    "# map() + 일반함수\n",
    "print(list(map(second, two)))\n",
    "tuple(map(second, two))"
   ]
  },
  {
   "cell_type": "markdown",
   "metadata": {},
   "source": [
    "- In the map function, it takes two parameters which are functions and data structures\n",
    "- the map function above took a function named second and a list named two as parameters\n",
    "- each element in the list \"two\" plays as an argument for the Second function"
   ]
  },
  {
   "cell_type": "code",
   "execution_count": 20,
   "metadata": {},
   "outputs": [
    {
     "data": {
      "text/plain": [
       "[1, 3, 5, 7, 9]"
      ]
     },
     "execution_count": 20,
     "metadata": {},
     "output_type": "execute_result"
    }
   ],
   "source": [
    "def odd(x):\n",
    "    if x % 2 == 1:\n",
    "        return x\n",
    "\n",
    "# 리스트\n",
    "two = [i for i in range(10)]\n",
    "\n",
    "# list(filter() + 일반 함수)\n",
    "list(filter(odd, two))"
   ]
  },
  {
   "cell_type": "markdown",
   "metadata": {},
   "source": [
    "- filter function on the other hand clean elements in the list by a certain condition.\n",
    "- The condition is usually set by a function, which in this case would be the odd function that returns odd numbers when elements in the \"two\" list taken in as arguments."
   ]
  },
  {
   "cell_type": "code",
   "execution_count": 22,
   "metadata": {},
   "outputs": [
    {
     "data": {
      "text/plain": [
       "120"
      ]
     },
     "execution_count": 22,
     "metadata": {},
     "output_type": "execute_result"
    }
   ],
   "source": [
    "from functools import reduce\n",
    "# 일반 함수\n",
    "def f(x, y):\n",
    "    return x * y\n",
    "\n",
    "# 리스트\n",
    "a = [1, 2, 3, 4, 5]\n",
    "\n",
    "# reduce(일반 함수, 이터러블 객체)\n",
    "reduce(f, a)"
   ]
  },
  {
   "cell_type": "markdown",
   "metadata": {},
   "source": [
    "- The reduce function takes a function and a list of elements as input and reduces the list to a single value. The function is applied to two elements in the list at a time, and the result(of the two elements multiplying each other) is used as the input for the next iteration of the function."
   ]
  },
  {
   "cell_type": "markdown",
   "metadata": {},
   "source": [
    "### using Lambda with map, filter, reduce"
   ]
  },
  {
   "cell_type": "code",
   "execution_count": null,
   "metadata": {},
   "outputs": [],
   "source": [
    "ls = [i for i in range(11)]\n",
    "list(map(lambda x: x ** 2, ls)) # lambda function and ls as the parameters\n",
    "                                # function defined as x ** 2, this is how the list will be modified by.\n",
    "\n",
    "quiz_list = [i for i in range(10)]              \n",
    "list(filter(lambda x: 4 <= x <=6, quiz_list))   # elements in quiz_list will be filtered by the condition lambda function\n",
    "                                                # list will only have i that are 4 or greater and 6 or less. \n",
    "\n",
    "# 리스트\n",
    "a = [1, 2, 3, 4, 5]\n",
    "\n",
    "# reduce(람다 함수, 이터러블 객체)\n",
    "reduce(lambda x, y : x * y, a) # list a will be reduced down to a single number which is five factorial (120)"
   ]
  },
  {
   "cell_type": "markdown",
   "metadata": {},
   "source": [
    "### 일급객체"
   ]
  },
  {
   "cell_type": "code",
   "execution_count": null,
   "metadata": {},
   "outputs": [],
   "source": [
    "a, b = 3, 1\n",
    "def add(x, y):\n",
    "    print(x + y)\n",
    "\n",
    "add(a, b)"
   ]
  },
  {
   "cell_type": "code",
   "execution_count": null,
   "metadata": {},
   "outputs": [],
   "source": [
    "def add(a, b):   \n",
    "    return a + b  \n",
    "\n",
    "# f1이라는 변수에 add 함수 할당\n",
    "f1 = add         \n",
    "\n",
    "print(add)      \n",
    "print(f1) "
   ]
  },
  {
   "cell_type": "code",
   "execution_count": null,
   "metadata": {},
   "outputs": [],
   "source": [
    "def add(a, b): \n",
    "    return a + b\n",
    "\n",
    "def minus(a, b):\n",
    "    return a - b\n",
    "\n",
    "# 리스트에 함수 할당\n",
    "calc = [add, minus]\n",
    "\n",
    "for i in calc:\n",
    "    print(i(10, 5)) # 15와 5를 출력"
   ]
  },
  {
   "cell_type": "markdown",
   "metadata": {},
   "source": [
    "### CLASS"
   ]
  },
  {
   "cell_type": "markdown",
   "metadata": {},
   "source": []
  }
 ],
 "metadata": {
  "kernelspec": {
   "display_name": "Python 3",
   "language": "python",
   "name": "python3"
  },
  "language_info": {
   "codemirror_mode": {
    "name": "ipython",
    "version": 3
   },
   "file_extension": ".py",
   "mimetype": "text/x-python",
   "name": "python",
   "nbconvert_exporter": "python",
   "pygments_lexer": "ipython3",
   "version": "3.10.11"
  },
  "orig_nbformat": 4
 },
 "nbformat": 4,
 "nbformat_minor": 2
}
